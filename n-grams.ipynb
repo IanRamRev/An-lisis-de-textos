{
 "cells": [
  {
   "cell_type": "markdown",
   "metadata": {},
   "source": [
    "http://pdln.blogspot.com/2012/10/modelos-de-lenguaje-bigramas.html"
   ]
  },
  {
   "cell_type": "markdown",
   "metadata": {},
   "source": [
    "Un corpus es un conjunto de documentos (texto, video, audio, etc.) destinado a la investigación. La recolección de un corpus depende de lo que se busca estudiar."
   ]
  },
  {
   "cell_type": "code",
   "execution_count": 7,
   "metadata": {},
   "outputs": [],
   "source": [
    "import nltk\n",
    "import numpy \n",
    "import pandas"
   ]
  },
  {
   "cell_type": "code",
   "execution_count": 72,
   "metadata": {},
   "outputs": [],
   "source": [
    "ojala = \"Ojalá que las hojas no te toquen el cuerpo cuando caigan \\\n",
    "para que no las puedas convertir en cristal.\\\n",
    "Ojalá que la lluvia deje de ser milagro que baja por tu cuerpo.\\\n",
    "Ojalá que la luna pueda salir sin ti.\\\n",
    "Ojalá que la tierra no te bese los pasos.\\\n",
    "Ojalá se te acabe la mirada constante,\\\n",
    "la palabra precisa, la sonrisa perfecta.\\\n",
    "Ojalá pase algo que te borre de pronto:\\\n",
    "una luz cegadora, un disparo de nievi,\\\n",
    "ojalá por lo menos que me lleve la muerte,\\\n",
    "para no verte tanto, para no verte siempre\\\n",
    "en todos los segundos, en todas las visiones:\\\n",
    "ojalá que no pueda tocarte ni en canciones.\\\n",
    "Ojalá que la aurora no dé gritos que caigan en mi espalda.\\\n",
    "Ojalá que tu nombre se le olvide a esa voz.\\\n",
    "Ojalá las paredes no retengan tu ruido de camino cansado.\\\n",
    "Ojalá que el deseo se vaya tras de ti,\\\n",
    "a tu viejo gobierno de difuntos y flores.\""
   ]
  },
  {
   "cell_type": "markdown",
   "metadata": {},
   "source": [
    "Separamos todos los tokens"
   ]
  },
  {
   "cell_type": "code",
   "execution_count": 73,
   "metadata": {},
   "outputs": [
    {
     "name": "stdout",
     "output_type": "stream",
     "text": [
      "Vocabulario =  92\n"
     ]
    }
   ],
   "source": [
    "tokens = [t for t in ojala.split()]\n",
    "unicos = numpy.unique(tokens)\n",
    "vocabulario = len(unicos)\n",
    "print(\"Vocabulario = \", vocabulario)"
   ]
  },
  {
   "cell_type": "markdown",
   "metadata": {},
   "source": [
    "Calculamos probabilidades"
   ]
  },
  {
   "cell_type": "code",
   "execution_count": 74,
   "metadata": {},
   "outputs": [
    {
     "name": "stdout",
     "output_type": "stream",
     "text": [
      "Ojalá\n",
      "que\n",
      "las\n",
      "hojas\n",
      "no\n",
      "te\n",
      "toquen\n",
      "el\n",
      "cuerpo\n",
      "cuando\n",
      "caigan\n",
      "para\n",
      "que\n",
      "no\n",
      "las\n",
      "puedas\n",
      "convertir\n",
      "en\n",
      "cristal.Ojalá\n",
      "que\n",
      "la\n",
      "lluvia\n",
      "deje\n",
      "de\n",
      "ser\n",
      "milagro\n",
      "que\n",
      "baja\n",
      "por\n",
      "tu\n",
      "cuerpo.Ojalá\n",
      "que\n",
      "la\n",
      "luna\n",
      "pueda\n",
      "salir\n",
      "sin\n",
      "ti.Ojalá\n",
      "que\n",
      "la\n",
      "tierra\n",
      "no\n",
      "te\n",
      "bese\n",
      "los\n",
      "pasos.Ojalá\n",
      "se\n",
      "te\n",
      "acabe\n",
      "la\n",
      "mirada\n",
      "constante,la\n",
      "palabra\n",
      "precisa,\n",
      "la\n",
      "sonrisa\n",
      "perfecta.Ojalá\n",
      "pase\n",
      "algo\n",
      "que\n",
      "te\n",
      "borre\n",
      "de\n",
      "pronto:una\n",
      "luz\n",
      "cegadora,\n",
      "un\n",
      "disparo\n",
      "de\n",
      "nievi,ojalá\n",
      "por\n",
      "lo\n",
      "menos\n",
      "que\n",
      "me\n",
      "lleve\n",
      "la\n",
      "muerte,para\n",
      "no\n",
      "verte\n",
      "tanto,\n",
      "para\n",
      "no\n",
      "verte\n",
      "siempreen\n",
      "todos\n",
      "los\n",
      "segundos,\n",
      "en\n",
      "todas\n",
      "las\n",
      "visiones:ojalá\n",
      "que\n",
      "no\n",
      "pueda\n",
      "tocarte\n",
      "ni\n",
      "en\n",
      "canciones.Ojalá\n",
      "que\n",
      "la\n",
      "aurora\n",
      "no\n",
      "dé\n",
      "gritos\n",
      "que\n",
      "caigan\n",
      "en\n",
      "mi\n",
      "espalda.Ojalá\n",
      "que\n",
      "tu\n",
      "nombre\n",
      "se\n",
      "le\n",
      "olvide\n",
      "a\n",
      "esa\n",
      "voz.Ojalá\n",
      "las\n",
      "paredes\n",
      "no\n",
      "retengan\n",
      "tu\n",
      "ruido\n",
      "de\n",
      "camino\n",
      "cansado.Ojalá\n",
      "que\n",
      "el\n",
      "deseo\n",
      "se\n",
      "vaya\n",
      "tras\n",
      "de\n",
      "ti,a\n",
      "tu\n",
      "viejo\n",
      "gobierno\n",
      "de\n",
      "difuntos\n",
      "y\n",
      "flores.\n",
      "P('Ójala que') 1.0\n"
     ]
    }
   ],
   "source": [
    "prob = numpy.zeros(len(ojala))\n",
    "Pprueba = 1.0\n",
    "for i in range(len(tokens)):\n",
    "    #if ('Ojalá' == tokens[i-1] and 'que' == tokens[i]):\n",
    "     #       prob[i] =  (tokens.count(tokens[i-1])/tokens.count(tokens[i]))\n",
    "            print(tokens[i])\n",
    "      #      Pprueba = Pprueba * prob[i]\n",
    "print(\"P('Ójala que')\", Pprueba)\n",
    "    "
   ]
  },
  {
   "cell_type": "markdown",
   "metadata": {},
   "source": [
    "Datos de entrada para calcular la probabilidad: \"Ojalá que la\""
   ]
  },
  {
   "cell_type": "code",
   "execution_count": null,
   "metadata": {},
   "outputs": [],
   "source": []
  }
 ],
 "metadata": {
  "kernelspec": {
   "display_name": "Python 3",
   "language": "python",
   "name": "python3"
  },
  "language_info": {
   "codemirror_mode": {
    "name": "ipython",
    "version": 3
   },
   "file_extension": ".py",
   "mimetype": "text/x-python",
   "name": "python",
   "nbconvert_exporter": "python",
   "pygments_lexer": "ipython3",
   "version": "3.7.6"
  }
 },
 "nbformat": 4,
 "nbformat_minor": 4
}
